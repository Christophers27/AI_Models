{
 "cells": [
  {
   "attachments": {},
   "cell_type": "markdown",
   "metadata": {},
   "source": [
    "Import Libraries\n"
   ]
  },
  {
   "cell_type": "code",
   "execution_count": 1,
   "metadata": {},
   "outputs": [],
   "source": [
    "import UNet\n",
    "import tensorflow as tf\n",
    "\n",
    "from PIL import Image\n",
    "import numpy as np\n",
    "import glob"
   ]
  },
  {
   "attachments": {},
   "cell_type": "markdown",
   "metadata": {},
   "source": [
    "Import and Format Data\n"
   ]
  },
  {
   "cell_type": "code",
   "execution_count": 2,
   "metadata": {},
   "outputs": [],
   "source": [
    "def rgbToOneHot(img, colorDict):\n",
    "    numClasses = len(colorDict)\n",
    "    shape = img.shape[:2]+(numClasses,)\n",
    "    arr = np.zeros( shape, dtype=np.int8 )\n",
    "\n",
    "    for i, cls in enumerate(colorDict):\n",
    "        arr[:,:,i] = np.all(img.reshape( (-1,3) ) == cls, axis=1).reshape(shape[:2])\n",
    "\n",
    "    return arr"
   ]
  },
  {
   "cell_type": "code",
   "execution_count": 3,
   "metadata": {},
   "outputs": [
    {
     "name": "stdout",
     "output_type": "stream",
     "text": [
      "(44, 512, 512, 3)\n",
      "(44, 512, 512, 3)\n",
      "(44, 512, 512, 3)\n",
      "(44, 512, 512, 3)\n",
      "(44, 512, 512, 4)\n",
      "(44, 512, 512, 4)\n"
     ]
    }
   ],
   "source": [
    "fileList = glob.glob(\"data/512x512/Train/images_512/*.jpeg\")\n",
    "XTrain = np.array([np.array(Image.open(fname)) for fname in fileList])\n",
    "\n",
    "fileList = glob.glob(\"data/512x512/Train/mask_512/*.png\")\n",
    "YTrain = np.array([np.array(Image.open(fname)) for fname in fileList])\n",
    "\n",
    "fileList = glob.glob(\"data/512x512/Test/images_512/*.jpeg\")\n",
    "XTest = np.array([np.array(Image.open(fname)) for fname in fileList])\n",
    "\n",
    "fileList = glob.glob(\"data/512x512/Test/mask_512/*.png\")\n",
    "YTest = np.array([np.array(Image.open(fname)) for fname in fileList])\n",
    "\n",
    "print(XTrain.shape)\n",
    "print(YTrain.shape)\n",
    "print(XTest.shape)\n",
    "print(YTest.shape)\n",
    "\n",
    "colors = {(128, 0, 0): 0,\n",
    "          (0, 0, 0): 1,\n",
    "          (0, 128, 0): 2,\n",
    "          (128, 128, 0): 3}\n",
    "\n",
    "YTrain = np.array([rgbToOneHot(YTrain[i], colors) for i in range(YTrain.shape[0])])\n",
    "YTest = np.array([rgbToOneHot(YTest[i], colors) for i in range(YTest.shape[0])])\n",
    "\n",
    "print(YTrain.shape)\n",
    "print(YTest.shape)"
   ]
  },
  {
   "attachments": {},
   "cell_type": "markdown",
   "metadata": {},
   "source": [
    "Create Model + Tools\n"
   ]
  },
  {
   "cell_type": "code",
   "execution_count": 4,
   "metadata": {},
   "outputs": [
    {
     "name": "stdout",
     "output_type": "stream",
     "text": [
      "Model: \"model\"\n",
      "__________________________________________________________________________________________________\n",
      " Layer (type)                   Output Shape         Param #     Connected to                     \n",
      "==================================================================================================\n",
      " input_1 (InputLayer)           [(None, 512, 512, 3  0           []                               \n",
      "                                )]                                                                \n",
      "                                                                                                  \n",
      " sequential (Sequential)        (None, 512, 512, 32  10400       ['input_1[0][0]']                \n",
      "                                )                                                                 \n",
      "                                                                                                  \n",
      " max_pooling2d (MaxPooling2D)   (None, 256, 256, 32  0           ['sequential[0][0]']             \n",
      "                                )                                                                 \n",
      "                                                                                                  \n",
      " sequential_1 (Sequential)      (None, 256, 256, 64  55936       ['max_pooling2d[0][0]']          \n",
      "                                )                                                                 \n",
      "                                                                                                  \n",
      " max_pooling2d_1 (MaxPooling2D)  (None, 128, 128, 64  0          ['sequential_1[0][0]']           \n",
      "                                )                                                                 \n",
      "                                                                                                  \n",
      " sequential_2 (Sequential)      (None, 128, 128, 12  222464      ['max_pooling2d_1[0][0]']        \n",
      "                                8)                                                                \n",
      "                                                                                                  \n",
      " max_pooling2d_2 (MaxPooling2D)  (None, 64, 64, 128)  0          ['sequential_2[0][0]']           \n",
      "                                                                                                  \n",
      " sequential_3 (Sequential)      (None, 64, 64, 256)  887296      ['max_pooling2d_2[0][0]']        \n",
      "                                                                                                  \n",
      " max_pooling2d_3 (MaxPooling2D)  (None, 32, 32, 256)  0          ['sequential_3[0][0]']           \n",
      "                                                                                                  \n",
      " sequential_4 (Sequential)      (None, 32, 32, 512)  3544064     ['max_pooling2d_3[0][0]']        \n",
      "                                                                                                  \n",
      " conv2d_transpose (Conv2DTransp  (None, 64, 64, 256)  524544     ['sequential_4[0][0]']           \n",
      " ose)                                                                                             \n",
      "                                                                                                  \n",
      " concatenate (Concatenate)      (None, 64, 64, 512)  0           ['conv2d_transpose[0][0]',       \n",
      "                                                                  'sequential_3[0][0]']           \n",
      "                                                                                                  \n",
      " sequential_5 (Sequential)      (None, 64, 64, 256)  1772032     ['concatenate[0][0]']            \n",
      "                                                                                                  \n",
      " conv2d_transpose_1 (Conv2DTran  (None, 128, 128, 12  131200     ['sequential_5[0][0]']           \n",
      " spose)                         8)                                                                \n",
      "                                                                                                  \n",
      " concatenate_1 (Concatenate)    (None, 128, 128, 25  0           ['conv2d_transpose_1[0][0]',     \n",
      "                                6)                                'sequential_2[0][0]']           \n",
      "                                                                                                  \n",
      " sequential_6 (Sequential)      (None, 128, 128, 12  443648      ['concatenate_1[0][0]']          \n",
      "                                8)                                                                \n",
      "                                                                                                  \n",
      " conv2d_transpose_2 (Conv2DTran  (None, 256, 256, 64  32832      ['sequential_6[0][0]']           \n",
      " spose)                         )                                                                 \n",
      "                                                                                                  \n",
      " concatenate_2 (Concatenate)    (None, 256, 256, 12  0           ['conv2d_transpose_2[0][0]',     \n",
      "                                8)                                'sequential_1[0][0]']           \n",
      "                                                                                                  \n",
      " sequential_7 (Sequential)      (None, 256, 256, 64  111232      ['concatenate_2[0][0]']          \n",
      "                                )                                                                 \n",
      "                                                                                                  \n",
      " conv2d_transpose_3 (Conv2DTran  (None, 512, 512, 32  8224       ['sequential_7[0][0]']           \n",
      " spose)                         )                                                                 \n",
      "                                                                                                  \n",
      " concatenate_3 (Concatenate)    (None, 512, 512, 64  0           ['conv2d_transpose_3[0][0]',     \n",
      "                                )                                 'sequential[0][0]']             \n",
      "                                                                                                  \n",
      " sequential_8 (Sequential)      (None, 512, 512, 32  27968       ['concatenate_3[0][0]']          \n",
      "                                )                                                                 \n",
      "                                                                                                  \n",
      " conv2d_18 (Conv2D)             (None, 512, 512, 4)  132         ['sequential_8[0][0]']           \n",
      "                                                                                                  \n",
      "==================================================================================================\n",
      "Total params: 7,771,972\n",
      "Trainable params: 7,766,084\n",
      "Non-trainable params: 5,888\n",
      "__________________________________________________________________________________________________\n"
     ]
    }
   ],
   "source": [
    "# Create model\n",
    "model = UNet.UNet((512, 512, 3), 4, [32, 64, 128, 256, 512], 3, 2, 4)\n",
    "model.compile(optimizer=\"adam\", loss=\"binary_crossentropy\", metrics=[\"accuracy\"])\n",
    "model.summary()"
   ]
  },
  {
   "cell_type": "code",
   "execution_count": 5,
   "metadata": {},
   "outputs": [],
   "source": [
    "# Create checkpoint callback\n",
    "checkpoint = tf.keras.callbacks.ModelCheckpoint(\n",
    "    \"model.h5\", verbose=1, save_best_only=True\n",
    ")\n",
    "\n",
    "# Create callbacks\n",
    "callbacks = [\n",
    "    tf.keras.callbacks.EarlyStopping(monitor=\"accuracy\", patience=2, verbose=1),\n",
    "    tf.keras.callbacks.TensorBoard(log_dir=\"logs\"),\n",
    "]"
   ]
  },
  {
   "cell_type": "code",
   "execution_count": 6,
   "metadata": {},
   "outputs": [
    {
     "name": "stdout",
     "output_type": "stream",
     "text": [
      "Epoch 1/10\n",
      "11/11 - 91s - loss: 0.6606 - accuracy: 0.4045 - 91s/epoch - 8s/step\n",
      "Epoch 2/10\n",
      "11/11 - 86s - loss: 0.5301 - accuracy: 0.7007 - 86s/epoch - 8s/step\n",
      "Epoch 3/10\n",
      "11/11 - 86s - loss: 0.4741 - accuracy: 0.7703 - 86s/epoch - 8s/step\n",
      "Epoch 4/10\n",
      "11/11 - 89s - loss: 0.4366 - accuracy: 0.7790 - 89s/epoch - 8s/step\n",
      "Epoch 5/10\n",
      "11/11 - 92s - loss: 0.4039 - accuracy: 0.7779 - 92s/epoch - 8s/step\n",
      "Epoch 6/10\n",
      "11/11 - 89s - loss: 0.3796 - accuracy: 0.7831 - 89s/epoch - 8s/step\n",
      "Epoch 7/10\n",
      "11/11 - 88s - loss: 0.3558 - accuracy: 0.7858 - 88s/epoch - 8s/step\n",
      "Epoch 8/10\n",
      "11/11 - 89s - loss: 0.3324 - accuracy: 0.7937 - 89s/epoch - 8s/step\n",
      "Epoch 9/10\n",
      "11/11 - 88s - loss: 0.3203 - accuracy: 0.7893 - 88s/epoch - 8s/step\n",
      "Epoch 10/10\n",
      "11/11 - 89s - loss: 0.3055 - accuracy: 0.7978 - 89s/epoch - 8s/step\n"
     ]
    },
    {
     "data": {
      "text/plain": [
       "<keras.callbacks.History at 0x1e48259e3d0>"
      ]
     },
     "execution_count": 6,
     "metadata": {},
     "output_type": "execute_result"
    }
   ],
   "source": [
    "model.fit(XTrain, YTrain, batch_size=4, epochs=10, verbose=2, callbacks=callbacks)"
   ]
  },
  {
   "cell_type": "code",
   "execution_count": 9,
   "metadata": {},
   "outputs": [
    {
     "name": "stdout",
     "output_type": "stream",
     "text": [
      "2/2 - 18s - loss: 0.4585 - accuracy: 0.7017 - 18s/epoch - 9s/step\n"
     ]
    },
    {
     "data": {
      "text/plain": [
       "[0.4585326015949249, 0.701694905757904]"
      ]
     },
     "execution_count": 9,
     "metadata": {},
     "output_type": "execute_result"
    }
   ],
   "source": [
    "# Evaluate model\n",
    "model.evaluate(XTest, YTest, verbose=2)"
   ]
  },
  {
   "cell_type": "code",
   "execution_count": 8,
   "metadata": {},
   "outputs": [],
   "source": [
    "# Save the model\n",
    "model.save(\"model.h5\")"
   ]
  }
 ],
 "metadata": {
  "kernelspec": {
   "display_name": "Python 3",
   "language": "python",
   "name": "python3"
  },
  "language_info": {
   "codemirror_mode": {
    "name": "ipython",
    "version": 3
   },
   "file_extension": ".py",
   "mimetype": "text/x-python",
   "name": "python",
   "nbconvert_exporter": "python",
   "pygments_lexer": "ipython3",
   "version": "3.11.4"
  },
  "orig_nbformat": 4
 },
 "nbformat": 4,
 "nbformat_minor": 2
}
