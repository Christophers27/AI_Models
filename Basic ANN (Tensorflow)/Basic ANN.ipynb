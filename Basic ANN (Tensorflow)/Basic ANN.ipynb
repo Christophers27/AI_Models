{
 "cells": [
  {
   "attachments": {},
   "cell_type": "markdown",
   "metadata": {},
   "source": [
    "Import Data\n"
   ]
  },
  {
   "cell_type": "code",
   "execution_count": 1,
   "metadata": {},
   "outputs": [],
   "source": [
    "import pandas as pd\n",
    "from sklearn.model_selection import train_test_split"
   ]
  },
  {
   "cell_type": "code",
   "execution_count": 2,
   "metadata": {},
   "outputs": [],
   "source": [
    "dataset = pd.read_csv(\"Churn.csv\")"
   ]
  },
  {
   "cell_type": "code",
   "execution_count": 3,
   "metadata": {},
   "outputs": [],
   "source": [
    "# This turns the categorical data into binary/numerical data\n",
    "x = pd.get_dummies(dataset.drop([\"Customer ID\", \"Churn\"], axis=1))\n",
    "y = dataset[\"Churn\"].apply(lambda val: 1 if val == \"Yes\" else 0)"
   ]
  },
  {
   "cell_type": "code",
   "execution_count": 4,
   "metadata": {},
   "outputs": [],
   "source": [
    "# Split into training and testing data\n",
    "xTrain, xTest, yTrain, yTest = train_test_split(x, y, test_size=0.2)"
   ]
  },
  {
   "cell_type": "code",
   "execution_count": 5,
   "metadata": {},
   "outputs": [
    {
     "data": {
      "text/html": [
       "<div>\n",
       "<style scoped>\n",
       "    .dataframe tbody tr th:only-of-type {\n",
       "        vertical-align: middle;\n",
       "    }\n",
       "\n",
       "    .dataframe tbody tr th {\n",
       "        vertical-align: top;\n",
       "    }\n",
       "\n",
       "    .dataframe thead th {\n",
       "        text-align: right;\n",
       "    }\n",
       "</style>\n",
       "<table border=\"1\" class=\"dataframe\">\n",
       "  <thead>\n",
       "    <tr style=\"text-align: right;\">\n",
       "      <th></th>\n",
       "      <th>Senior Citizen</th>\n",
       "      <th>tenure</th>\n",
       "      <th>Monthly Charges</th>\n",
       "      <th>Gender_Female</th>\n",
       "      <th>Gender_Male</th>\n",
       "      <th>Partner_No</th>\n",
       "      <th>Partner_Yes</th>\n",
       "      <th>Dependents_No</th>\n",
       "      <th>Dependents_Yes</th>\n",
       "      <th>Phone Service_No</th>\n",
       "      <th>...</th>\n",
       "      <th>Total Charges_995.35</th>\n",
       "      <th>Total Charges_996.45</th>\n",
       "      <th>Total Charges_996.85</th>\n",
       "      <th>Total Charges_996.95</th>\n",
       "      <th>Total Charges_997.65</th>\n",
       "      <th>Total Charges_997.75</th>\n",
       "      <th>Total Charges_998.1</th>\n",
       "      <th>Total Charges_999.45</th>\n",
       "      <th>Total Charges_999.8</th>\n",
       "      <th>Total Charges_999.9</th>\n",
       "    </tr>\n",
       "  </thead>\n",
       "  <tbody>\n",
       "    <tr>\n",
       "      <th>1755</th>\n",
       "      <td>0</td>\n",
       "      <td>62</td>\n",
       "      <td>74.30</td>\n",
       "      <td>False</td>\n",
       "      <td>True</td>\n",
       "      <td>True</td>\n",
       "      <td>False</td>\n",
       "      <td>True</td>\n",
       "      <td>False</td>\n",
       "      <td>False</td>\n",
       "      <td>...</td>\n",
       "      <td>False</td>\n",
       "      <td>False</td>\n",
       "      <td>False</td>\n",
       "      <td>False</td>\n",
       "      <td>False</td>\n",
       "      <td>False</td>\n",
       "      <td>False</td>\n",
       "      <td>False</td>\n",
       "      <td>False</td>\n",
       "      <td>False</td>\n",
       "    </tr>\n",
       "    <tr>\n",
       "      <th>4006</th>\n",
       "      <td>0</td>\n",
       "      <td>1</td>\n",
       "      <td>24.05</td>\n",
       "      <td>False</td>\n",
       "      <td>True</td>\n",
       "      <td>True</td>\n",
       "      <td>False</td>\n",
       "      <td>True</td>\n",
       "      <td>False</td>\n",
       "      <td>False</td>\n",
       "      <td>...</td>\n",
       "      <td>False</td>\n",
       "      <td>False</td>\n",
       "      <td>False</td>\n",
       "      <td>False</td>\n",
       "      <td>False</td>\n",
       "      <td>False</td>\n",
       "      <td>False</td>\n",
       "      <td>False</td>\n",
       "      <td>False</td>\n",
       "      <td>False</td>\n",
       "    </tr>\n",
       "    <tr>\n",
       "      <th>4103</th>\n",
       "      <td>0</td>\n",
       "      <td>7</td>\n",
       "      <td>44.75</td>\n",
       "      <td>False</td>\n",
       "      <td>True</td>\n",
       "      <td>False</td>\n",
       "      <td>True</td>\n",
       "      <td>False</td>\n",
       "      <td>True</td>\n",
       "      <td>False</td>\n",
       "      <td>...</td>\n",
       "      <td>False</td>\n",
       "      <td>False</td>\n",
       "      <td>False</td>\n",
       "      <td>False</td>\n",
       "      <td>False</td>\n",
       "      <td>False</td>\n",
       "      <td>False</td>\n",
       "      <td>False</td>\n",
       "      <td>False</td>\n",
       "      <td>False</td>\n",
       "    </tr>\n",
       "    <tr>\n",
       "      <th>1523</th>\n",
       "      <td>0</td>\n",
       "      <td>29</td>\n",
       "      <td>68.85</td>\n",
       "      <td>True</td>\n",
       "      <td>False</td>\n",
       "      <td>True</td>\n",
       "      <td>False</td>\n",
       "      <td>True</td>\n",
       "      <td>False</td>\n",
       "      <td>False</td>\n",
       "      <td>...</td>\n",
       "      <td>False</td>\n",
       "      <td>False</td>\n",
       "      <td>False</td>\n",
       "      <td>False</td>\n",
       "      <td>False</td>\n",
       "      <td>False</td>\n",
       "      <td>False</td>\n",
       "      <td>False</td>\n",
       "      <td>False</td>\n",
       "      <td>False</td>\n",
       "    </tr>\n",
       "    <tr>\n",
       "      <th>4134</th>\n",
       "      <td>0</td>\n",
       "      <td>56</td>\n",
       "      <td>98.60</td>\n",
       "      <td>False</td>\n",
       "      <td>True</td>\n",
       "      <td>True</td>\n",
       "      <td>False</td>\n",
       "      <td>True</td>\n",
       "      <td>False</td>\n",
       "      <td>False</td>\n",
       "      <td>...</td>\n",
       "      <td>False</td>\n",
       "      <td>False</td>\n",
       "      <td>False</td>\n",
       "      <td>False</td>\n",
       "      <td>False</td>\n",
       "      <td>False</td>\n",
       "      <td>False</td>\n",
       "      <td>False</td>\n",
       "      <td>False</td>\n",
       "      <td>False</td>\n",
       "    </tr>\n",
       "  </tbody>\n",
       "</table>\n",
       "<p>5 rows × 6575 columns</p>\n",
       "</div>"
      ],
      "text/plain": [
       "      Senior Citizen  tenure  Monthly Charges  Gender_Female  Gender_Male   \n",
       "1755               0      62            74.30          False         True  \\\n",
       "4006               0       1            24.05          False         True   \n",
       "4103               0       7            44.75          False         True   \n",
       "1523               0      29            68.85           True        False   \n",
       "4134               0      56            98.60          False         True   \n",
       "\n",
       "      Partner_No  Partner_Yes  Dependents_No  Dependents_Yes   \n",
       "1755        True        False           True           False  \\\n",
       "4006        True        False           True           False   \n",
       "4103       False         True          False            True   \n",
       "1523        True        False           True           False   \n",
       "4134        True        False           True           False   \n",
       "\n",
       "      Phone Service_No  ...  Total Charges_995.35  Total Charges_996.45   \n",
       "1755             False  ...                 False                 False  \\\n",
       "4006             False  ...                 False                 False   \n",
       "4103             False  ...                 False                 False   \n",
       "1523             False  ...                 False                 False   \n",
       "4134             False  ...                 False                 False   \n",
       "\n",
       "      Total Charges_996.85  Total Charges_996.95  Total Charges_997.65   \n",
       "1755                 False                 False                 False  \\\n",
       "4006                 False                 False                 False   \n",
       "4103                 False                 False                 False   \n",
       "1523                 False                 False                 False   \n",
       "4134                 False                 False                 False   \n",
       "\n",
       "      Total Charges_997.75  Total Charges_998.1  Total Charges_999.45   \n",
       "1755                 False                False                 False  \\\n",
       "4006                 False                False                 False   \n",
       "4103                 False                False                 False   \n",
       "1523                 False                False                 False   \n",
       "4134                 False                False                 False   \n",
       "\n",
       "      Total Charges_999.8  Total Charges_999.9  \n",
       "1755                False                False  \n",
       "4006                False                False  \n",
       "4103                False                False  \n",
       "1523                False                False  \n",
       "4134                False                False  \n",
       "\n",
       "[5 rows x 6575 columns]"
      ]
     },
     "execution_count": 5,
     "metadata": {},
     "output_type": "execute_result"
    }
   ],
   "source": [
    "xTrain.head()"
   ]
  },
  {
   "cell_type": "code",
   "execution_count": 6,
   "metadata": {},
   "outputs": [
    {
     "data": {
      "text/plain": [
       "1755    0\n",
       "4006    1\n",
       "4103    0\n",
       "1523    1\n",
       "4134    0\n",
       "Name: Churn, dtype: int64"
      ]
     },
     "execution_count": 6,
     "metadata": {},
     "output_type": "execute_result"
    }
   ],
   "source": [
    "yTrain.head()"
   ]
  },
  {
   "attachments": {},
   "cell_type": "markdown",
   "metadata": {},
   "source": [
    "Import Libraries\n"
   ]
  },
  {
   "cell_type": "code",
   "execution_count": 7,
   "metadata": {},
   "outputs": [],
   "source": [
    "import tensorflow\n",
    "from tensorflow.keras.models import Sequential, load_model\n",
    "from tensorflow.keras.layers import Dense, Dropout, BatchNormalization, Activation\n",
    "from tensorflow.keras.callbacks import ModelCheckpoint, EarlyStopping\n",
    "from sklearn.metrics import accuracy_score"
   ]
  },
  {
   "attachments": {},
   "cell_type": "markdown",
   "metadata": {},
   "source": [
    "Define Model\n"
   ]
  },
  {
   "cell_type": "code",
   "execution_count": 8,
   "metadata": {},
   "outputs": [],
   "source": [
    "model = Sequential(\n",
    "    [\n",
    "        Dense(units=32, input_dim=len(xTrain.columns)),\n",
    "        BatchNormalization(),\n",
    "        Activation(\"relu\"),\n",
    "        Dropout(0.2),\n",
    "        Dense(units=64),\n",
    "        BatchNormalization(),\n",
    "        Activation(\"relu\"),\n",
    "        Dropout(0.2),\n",
    "        Dense(units=1),\n",
    "        BatchNormalization(),\n",
    "        Activation(\"sigmoid\"),\n",
    "    ]\n",
    ")"
   ]
  },
  {
   "cell_type": "code",
   "execution_count": 9,
   "metadata": {},
   "outputs": [],
   "source": [
    "# Compile the model\n",
    "model.compile(loss=\"binary_crossentropy\", optimizer=\"sgd\", metrics=[\"accuracy\"])"
   ]
  },
  {
   "cell_type": "code",
   "execution_count": 10,
   "metadata": {},
   "outputs": [],
   "source": [
    "# Create callbacks\n",
    "checkpoint = ModelCheckpoint(\n",
    "    \"model.h5\", monitor=\"val_loss\", save_best_only=True, verbose=1\n",
    ")\n",
    "\n",
    "callbacks = [EarlyStopping(monitor=\"val_loss\", patience=5, verbose=1), checkpoint]"
   ]
  },
  {
   "attachments": {},
   "cell_type": "markdown",
   "metadata": {},
   "source": [
    "Train Model\n"
   ]
  },
  {
   "cell_type": "code",
   "execution_count": 11,
   "metadata": {},
   "outputs": [
    {
     "name": "stdout",
     "output_type": "stream",
     "text": [
      "Epoch 1/200\n",
      "159/159 [==============================] - ETA: 0s - loss: 0.5848 - accuracy: 0.7129\n",
      "Epoch 1: val_loss improved from inf to 0.52236, saving model to model.h5\n",
      "159/159 [==============================] - 1s 4ms/step - loss: 0.5848 - accuracy: 0.7129 - val_loss: 0.5224 - val_accuracy: 0.7695\n",
      "Epoch 2/200\n",
      "159/159 [==============================] - ETA: 0s - loss: 0.5319 - accuracy: 0.7456\n",
      "Epoch 2: val_loss improved from 0.52236 to 0.46457, saving model to model.h5\n",
      "159/159 [==============================] - 0s 2ms/step - loss: 0.5319 - accuracy: 0.7456 - val_loss: 0.4646 - val_accuracy: 0.7996\n",
      "Epoch 3/200\n",
      "151/159 [===========================>..] - ETA: 0s - loss: 0.5042 - accuracy: 0.7608\n",
      "Epoch 3: val_loss improved from 0.46457 to 0.46106, saving model to model.h5\n",
      "159/159 [==============================] - 0s 3ms/step - loss: 0.5034 - accuracy: 0.7614 - val_loss: 0.4611 - val_accuracy: 0.7979\n",
      "Epoch 4/200\n",
      "158/159 [============================>.] - ETA: 0s - loss: 0.4866 - accuracy: 0.7745\n",
      "Epoch 4: val_loss improved from 0.46106 to 0.43996, saving model to model.h5\n",
      "159/159 [==============================] - 0s 3ms/step - loss: 0.4865 - accuracy: 0.7748 - val_loss: 0.4400 - val_accuracy: 0.8050\n",
      "Epoch 5/200\n",
      "142/159 [=========================>....] - ETA: 0s - loss: 0.4781 - accuracy: 0.7821\n",
      "Epoch 5: val_loss did not improve from 0.43996\n",
      "159/159 [==============================] - 0s 2ms/step - loss: 0.4766 - accuracy: 0.7815 - val_loss: 0.4448 - val_accuracy: 0.7961\n",
      "Epoch 6/200\n",
      "152/159 [===========================>..] - ETA: 0s - loss: 0.4652 - accuracy: 0.7858\n",
      "Epoch 6: val_loss did not improve from 0.43996\n",
      "159/159 [==============================] - 0s 2ms/step - loss: 0.4675 - accuracy: 0.7829 - val_loss: 0.4402 - val_accuracy: 0.8121\n",
      "Epoch 7/200\n",
      "153/159 [===========================>..] - ETA: 0s - loss: 0.4660 - accuracy: 0.7870\n",
      "Epoch 7: val_loss improved from 0.43996 to 0.43195, saving model to model.h5\n",
      "159/159 [==============================] - 0s 3ms/step - loss: 0.4687 - accuracy: 0.7854 - val_loss: 0.4319 - val_accuracy: 0.8103\n",
      "Epoch 8/200\n",
      "153/159 [===========================>..] - ETA: 0s - loss: 0.4641 - accuracy: 0.7864\n",
      "Epoch 8: val_loss improved from 0.43195 to 0.42630, saving model to model.h5\n",
      "159/159 [==============================] - 0s 2ms/step - loss: 0.4638 - accuracy: 0.7868 - val_loss: 0.4263 - val_accuracy: 0.8138\n",
      "Epoch 9/200\n",
      "158/159 [============================>.] - ETA: 0s - loss: 0.4595 - accuracy: 0.7854\n",
      "Epoch 9: val_loss did not improve from 0.42630\n",
      "159/159 [==============================] - 0s 2ms/step - loss: 0.4594 - accuracy: 0.7856 - val_loss: 0.4474 - val_accuracy: 0.8121\n",
      "Epoch 10/200\n",
      "134/159 [========================>.....] - ETA: 0s - loss: 0.4560 - accuracy: 0.7864\n",
      "Epoch 10: val_loss did not improve from 0.42630\n",
      "159/159 [==============================] - 0s 2ms/step - loss: 0.4578 - accuracy: 0.7878 - val_loss: 0.4313 - val_accuracy: 0.8067\n",
      "Epoch 11/200\n",
      "144/159 [==========================>...] - ETA: 0s - loss: 0.4534 - accuracy: 0.7908\n",
      "Epoch 11: val_loss improved from 0.42630 to 0.42500, saving model to model.h5\n",
      "159/159 [==============================] - 0s 3ms/step - loss: 0.4534 - accuracy: 0.7898 - val_loss: 0.4250 - val_accuracy: 0.8032\n",
      "Epoch 12/200\n",
      "144/159 [==========================>...] - ETA: 0s - loss: 0.4580 - accuracy: 0.7849\n",
      "Epoch 12: val_loss did not improve from 0.42500\n",
      "159/159 [==============================] - 0s 2ms/step - loss: 0.4569 - accuracy: 0.7872 - val_loss: 0.5374 - val_accuracy: 0.6915\n",
      "Epoch 13/200\n",
      "157/159 [============================>.] - ETA: 0s - loss: 0.4537 - accuracy: 0.7864\n",
      "Epoch 13: val_loss did not improve from 0.42500\n",
      "159/159 [==============================] - 0s 2ms/step - loss: 0.4539 - accuracy: 0.7860 - val_loss: 0.5078 - val_accuracy: 0.7624\n",
      "Epoch 14/200\n",
      "149/159 [===========================>..] - ETA: 0s - loss: 0.4504 - accuracy: 0.7886\n",
      "Epoch 14: val_loss did not improve from 0.42500\n",
      "159/159 [==============================] - 0s 3ms/step - loss: 0.4500 - accuracy: 0.7892 - val_loss: 0.4390 - val_accuracy: 0.8050\n",
      "Epoch 15/200\n",
      "145/159 [==========================>...] - ETA: 0s - loss: 0.4513 - accuracy: 0.7871\n",
      "Epoch 15: val_loss did not improve from 0.42500\n",
      "159/159 [==============================] - 0s 3ms/step - loss: 0.4516 - accuracy: 0.7856 - val_loss: 0.4404 - val_accuracy: 0.7819\n",
      "Epoch 16/200\n",
      "154/159 [============================>.] - ETA: 0s - loss: 0.4489 - accuracy: 0.7916\n",
      "Epoch 16: val_loss did not improve from 0.42500\n",
      "159/159 [==============================] - 0s 2ms/step - loss: 0.4479 - accuracy: 0.7933 - val_loss: 0.4349 - val_accuracy: 0.8067\n",
      "Epoch 16: early stopping\n"
     ]
    },
    {
     "data": {
      "text/plain": [
       "<keras.callbacks.History at 0x26c6743dd10>"
      ]
     },
     "execution_count": 11,
     "metadata": {},
     "output_type": "execute_result"
    }
   ],
   "source": [
    "# Train model\n",
    "xTrain = xTrain.astype(\"float32\")\n",
    "yTrain = yTrain.astype(\"float32\")\n",
    "\n",
    "model.fit(\n",
    "    xTrain,\n",
    "    yTrain,\n",
    "    epochs=200,\n",
    "    batch_size=32,\n",
    "    callbacks=callbacks,\n",
    "    verbose=1,\n",
    "    validation_split=0.1,\n",
    ")"
   ]
  },
  {
   "attachments": {},
   "cell_type": "markdown",
   "metadata": {},
   "source": [
    "Test the Model\n"
   ]
  },
  {
   "cell_type": "code",
   "execution_count": 12,
   "metadata": {},
   "outputs": [
    {
     "name": "stdout",
     "output_type": "stream",
     "text": [
      "45/45 [==============================] - 0s 1ms/step\n"
     ]
    }
   ],
   "source": [
    "# Get predicted values\n",
    "xTest = xTest.astype(\"float32\")\n",
    "\n",
    "yHat = model.predict(xTest)\n",
    "yHat = [1 if val > 0.5 else 0 for val in yHat]"
   ]
  },
  {
   "cell_type": "code",
   "execution_count": 13,
   "metadata": {},
   "outputs": [
    {
     "name": "stdout",
     "output_type": "stream",
     "text": [
      "45/45 [==============================] - 0s 1ms/step - loss: 0.4781 - accuracy: 0.7637\n"
     ]
    },
    {
     "data": {
      "text/plain": [
       "[0.4781051576137543, 0.7636621594429016]"
      ]
     },
     "execution_count": 13,
     "metadata": {},
     "output_type": "execute_result"
    }
   ],
   "source": [
    "model = load_model(\"model.h5\")\n",
    "model.evaluate(xTest, yTest)"
   ]
  }
 ],
 "metadata": {
  "kernelspec": {
   "display_name": "Python 3",
   "language": "python",
   "name": "python3"
  },
  "language_info": {
   "codemirror_mode": {
    "name": "ipython",
    "version": 3
   },
   "file_extension": ".py",
   "mimetype": "text/x-python",
   "name": "python",
   "nbconvert_exporter": "python",
   "pygments_lexer": "ipython3",
   "version": "3.11.4"
  },
  "orig_nbformat": 4
 },
 "nbformat": 4,
 "nbformat_minor": 2
}
