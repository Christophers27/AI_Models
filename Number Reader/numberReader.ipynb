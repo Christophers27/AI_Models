{
 "cells": [
  {
   "attachments": {},
   "cell_type": "markdown",
   "metadata": {},
   "source": [
    "Import Libraries"
   ]
  },
  {
   "cell_type": "code",
   "execution_count": 1,
   "metadata": {},
   "outputs": [],
   "source": [
    "import numpy as np\n",
    "from tensorflow import keras\n",
    "from keras import layers"
   ]
  },
  {
   "attachments": {},
   "cell_type": "markdown",
   "metadata": {},
   "source": [
    "Define Constants"
   ]
  },
  {
   "cell_type": "code",
   "execution_count": 2,
   "metadata": {},
   "outputs": [],
   "source": [
    "input_shape = (28, 28, 1)\n",
    "num_classes = 10\n",
    "\n",
    "epochs = 10\n",
    "batch_size = 128"
   ]
  },
  {
   "attachments": {},
   "cell_type": "markdown",
   "metadata": {},
   "source": [
    "Load Database"
   ]
  },
  {
   "cell_type": "code",
   "execution_count": 3,
   "metadata": {},
   "outputs": [
    {
     "name": "stdout",
     "output_type": "stream",
     "text": [
      "Downloading data from https://storage.googleapis.com/tensorflow/tf-keras-datasets/mnist.npz\n",
      "11490434/11490434 [==============================] - 2s 0us/step\n"
     ]
    }
   ],
   "source": [
    "# We are using the classic MNIST numbers dataset\n",
    "from keras.datasets import mnist\n",
    "\n",
    "(x_train, y_train), (x_test, y_test) = mnist.load_data()\n",
    "\n",
    "# Scale the pixel values from 0-255 to 0-1\n",
    "x_train = x_train / 255\n",
    "x_test = x_test / 255\n",
    "\n",
    "# Reshape the images to 28x28x1 (single channel)\n",
    "x_train = np.expand_dims(x_train, axis=-1)\n",
    "x_test = np.expand_dims(x_test, axis=-1)\n",
    "\n",
    "# Turn the labels into a class matrix (we need to do this for categorical \n",
    "# crossentropy)\n",
    "y_train = keras.utils.to_categorical(y_train, num_classes)\n",
    "y_test = keras.utils.to_categorical(y_test, num_classes)"
   ]
  },
  {
   "attachments": {},
   "cell_type": "markdown",
   "metadata": {},
   "source": [
    "Create Model"
   ]
  },
  {
   "cell_type": "code",
   "execution_count": 4,
   "metadata": {},
   "outputs": [],
   "source": [
    "# Create empty model\n",
    "model = keras.Sequential()\n",
    "\n",
    "# Add the input layer\n",
    "model.add(keras.Input(shape=input_shape))\n",
    "\n",
    "# First convolutional layer\n",
    "model.add(layers.Conv2D(32, kernel_size=(3,3), activation=\"relu\"))\n",
    "model.add(layers.MaxPooling2D(pool_size=(2,2)))\n",
    "\n",
    "# Second convolutional layer\n",
    "model.add(layers.Conv2D(64, kernel_size=(3,3), activation=\"relu\"))\n",
    "model.add(layers.MaxPooling2D(pool_size=(2,2)))\n",
    "\n",
    "# Flatten the image\n",
    "model.add(layers.Flatten())\n",
    "\n",
    "# Add a dropout layer to prevent overfitting\n",
    "model.add(layers.Dropout(0.5))\n",
    "\n",
    "# Add a fully-connected (dense) layer\n",
    "model.add(layers.Dense(num_classes, activation=\"softmax\"))"
   ]
  },
  {
   "attachments": {},
   "cell_type": "markdown",
   "metadata": {},
   "source": [
    "Train the Model"
   ]
  },
  {
   "cell_type": "code",
   "execution_count": 5,
   "metadata": {},
   "outputs": [],
   "source": [
    "model.compile(loss='categorical_crossentropy', optimizer='adam', metrics=['accuracy'])"
   ]
  },
  {
   "cell_type": "code",
   "execution_count": 6,
   "metadata": {},
   "outputs": [
    {
     "name": "stdout",
     "output_type": "stream",
     "text": [
      "Epoch 1/10\n",
      "422/422 [==============================] - 12s 28ms/step - loss: 0.3490 - accuracy: 0.8973 - val_loss: 0.0743 - val_accuracy: 0.9788\n",
      "Epoch 2/10\n",
      "422/422 [==============================] - 12s 28ms/step - loss: 0.1097 - accuracy: 0.9671 - val_loss: 0.0589 - val_accuracy: 0.9822\n",
      "Epoch 3/10\n",
      "422/422 [==============================] - 12s 28ms/step - loss: 0.0822 - accuracy: 0.9746 - val_loss: 0.0446 - val_accuracy: 0.9872\n",
      "Epoch 4/10\n",
      "422/422 [==============================] - 12s 29ms/step - loss: 0.0694 - accuracy: 0.9783 - val_loss: 0.0389 - val_accuracy: 0.9882\n",
      "Epoch 5/10\n",
      "422/422 [==============================] - 12s 29ms/step - loss: 0.0615 - accuracy: 0.9805 - val_loss: 0.0371 - val_accuracy: 0.9900\n",
      "Epoch 6/10\n",
      "422/422 [==============================] - 12s 29ms/step - loss: 0.0555 - accuracy: 0.9824 - val_loss: 0.0346 - val_accuracy: 0.9900\n",
      "Epoch 7/10\n",
      "422/422 [==============================] - 12s 29ms/step - loss: 0.0504 - accuracy: 0.9842 - val_loss: 0.0386 - val_accuracy: 0.9895\n",
      "Epoch 8/10\n",
      "422/422 [==============================] - 12s 28ms/step - loss: 0.0464 - accuracy: 0.9847 - val_loss: 0.0344 - val_accuracy: 0.9898\n",
      "Epoch 9/10\n",
      "422/422 [==============================] - 12s 28ms/step - loss: 0.0428 - accuracy: 0.9866 - val_loss: 0.0338 - val_accuracy: 0.9892\n",
      "Epoch 10/10\n",
      "422/422 [==============================] - 12s 28ms/step - loss: 0.0394 - accuracy: 0.9878 - val_loss: 0.0346 - val_accuracy: 0.9902\n"
     ]
    },
    {
     "data": {
      "text/plain": [
       "<keras.callbacks.History at 0x2a4c65fc210>"
      ]
     },
     "execution_count": 6,
     "metadata": {},
     "output_type": "execute_result"
    }
   ],
   "source": [
    "model.fit(x_train, y_train, epochs=epochs, batch_size=batch_size, validation_split=0.1)"
   ]
  },
  {
   "attachments": {},
   "cell_type": "markdown",
   "metadata": {},
   "source": [
    "Test the Model"
   ]
  },
  {
   "cell_type": "code",
   "execution_count": 7,
   "metadata": {},
   "outputs": [
    {
     "name": "stdout",
     "output_type": "stream",
     "text": [
      "313/313 [==============================] - 1s 3ms/step - loss: 0.0288 - accuracy: 0.9905\n"
     ]
    },
    {
     "data": {
      "text/plain": [
       "[0.02880636230111122, 0.9904999732971191]"
      ]
     },
     "execution_count": 7,
     "metadata": {},
     "output_type": "execute_result"
    }
   ],
   "source": [
    "# Test the model\n",
    "model.evaluate(x_test, y_test)"
   ]
  }
 ],
 "metadata": {
  "kernelspec": {
   "display_name": "Python 3",
   "language": "python",
   "name": "python3"
  },
  "language_info": {
   "codemirror_mode": {
    "name": "ipython",
    "version": 3
   },
   "file_extension": ".py",
   "mimetype": "text/x-python",
   "name": "python",
   "nbconvert_exporter": "python",
   "pygments_lexer": "ipython3",
   "version": "3.11.3"
  },
  "orig_nbformat": 4
 },
 "nbformat": 4,
 "nbformat_minor": 2
}
