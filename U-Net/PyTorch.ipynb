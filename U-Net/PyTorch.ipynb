{
 "cells": [
  {
   "cell_type": "code",
   "execution_count": 1,
   "metadata": {},
   "outputs": [],
   "source": [
    "import torch\n",
    "import torchvision.transforms.functional\n",
    "from torch import nn"
   ]
  },
  {
   "cell_type": "code",
   "execution_count": 2,
   "metadata": {},
   "outputs": [],
   "source": [
    "class DoubleConvolution(nn.Module):\n",
    "    def __init__(self, inChannels: int, outChannels: int):\n",
    "        super.__init__()\n",
    "\n",
    "        self.first = nn.Conv2d(inChannels, outChannels, kernel_size=3, padding=1)\n",
    "        self.act1 = nn.ReLU()\n",
    "\n",
    "        self.second = nn.Conv2d(outChannels, outChannels, kernel_size=3, padding=1)\n",
    "        self.act2 = nn.ReLU()\n",
    "    \n",
    "    def forward(self, x: torch.Tensor):\n",
    "        x = self.first(x)\n",
    "        x = self.act1(x)\n",
    "        x = self.second(x)\n",
    "        return self.act2(x) \n"
   ]
  },
  {
   "cell_type": "code",
   "execution_count": 3,
   "metadata": {},
   "outputs": [],
   "source": [
    "class DownSample(nn.Module):\n",
    "    def __init__(self):\n",
    "        super.__init__()\n",
    "\n",
    "        self.pool = nn.MaxPool2d(2)\n",
    "\n",
    "    def forward(self, x: torch.Tensor):\n",
    "        return self.pool(x)"
   ]
  },
  {
   "cell_type": "code",
   "execution_count": 5,
   "metadata": {},
   "outputs": [],
   "source": [
    "class UpSample(nn.Module):\n",
    "    def __init__(self, inChannels: int, outChannels: int):\n",
    "        super.__init__()\n",
    "\n",
    "        self.up = nn.ConvTranspose2d(inChannels, outChannels, kernel_size=2, stride=2)\n",
    "    \n",
    "    def forward(self, x: torch.Tensor):\n",
    "        return self.up(x)"
   ]
  },
  {
   "cell_type": "code",
   "execution_count": 7,
   "metadata": {},
   "outputs": [],
   "source": [
    "class CropAndConcat(nn.Module):\n",
    "    def forward(self, x: torch.Tensor, contracting_x: torch.Tensor):\n",
    "        contracting_x = torchvision.transforms.functional.center_crop(contracting_x, [x.shape[2], x.shape[3]])\n",
    "        x = torch.cat([x, contracting_x], dim=1)\n",
    "        return x"
   ]
  },
  {
   "cell_type": "code",
   "execution_count": null,
   "metadata": {},
   "outputs": [],
   "source": [
    "class UNet(nn.Module):\n",
    "    def __init__(self, inChannels: int, outChannels: int):\n",
    "        super.__init__()\n",
    "\n",
    "        self.downConv = nn.ModuleList([DoubleConvolution(i, 0) for i, o in \n",
    "                                       [(inChannels, 64), (64, 128), (128, 256), (256, 512)]])\n",
    "        \n",
    "        self.downSample = nn.ModuleList([DownSample() for _ in range(4)])\n",
    "\n",
    "        self.middleConv = DoubleConvolution(512, 1024)\n",
    "\n",
    "        self.upSample = nn.ModuleList([UpSample(i, o) for i, o in \n",
    "                                       [(1024, 512), (512, 256), (256, 128), (128, 64)]])\n",
    "        \n",
    "        self.upConv = nn.ModuleList([DoubleConvolution(i, o) for i, o in\n",
    "                                     [(1024, 512), (512, 256), (256, 128), (128, 64)]])\n",
    "        \n",
    "        self.concat = nn.ModuleList([CropAndConcat() for _ in range(4)])\n",
    "\n",
    "        self.finalConv = nn.Conv2d(64, outChannels, kernel_size=1)\n",
    "    \n",
    "    def forward(self, x: torch.Tensor):\n",
    "        passThrough = []\n",
    "\n",
    "        for i in range(len(self.downConv)):\n",
    "            x = self.downConv[i](x)\n",
    "            passThrough.append(x)\n",
    "            x = self.downSample[i](x)\n",
    "\n",
    "        x = self.middleConv(x)\n",
    "\n",
    "        for i in range(len(self.upSample)):\n",
    "            x = self.upSample[i](x)\n",
    "            x = self.concat[i](x, passThrough[-i])\n",
    "            x = self.upConv[i](x)\n",
    "        \n",
    "        return self.finalConv(x)"
   ]
  }
 ],
 "metadata": {
  "kernelspec": {
   "display_name": "Python 3",
   "language": "python",
   "name": "python3"
  },
  "language_info": {
   "codemirror_mode": {
    "name": "ipython",
    "version": 3
   },
   "file_extension": ".py",
   "mimetype": "text/x-python",
   "name": "python",
   "nbconvert_exporter": "python",
   "pygments_lexer": "ipython3",
   "version": "3.11.3"
  },
  "orig_nbformat": 4
 },
 "nbformat": 4,
 "nbformat_minor": 2
}
