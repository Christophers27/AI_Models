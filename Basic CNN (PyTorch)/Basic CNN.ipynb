{
 "cells": [
  {
   "attachments": {},
   "cell_type": "markdown",
   "metadata": {},
   "source": [
    "Import Libraries"
   ]
  },
  {
   "cell_type": "code",
   "execution_count": 1,
   "metadata": {},
   "outputs": [],
   "source": [
    "from torch import nn, save, load\n",
    "from torch.optim import Adam\n",
    "from torch.utils.data import DataLoader\n",
    "from torchvision import datasets\n",
    "from torchvision.transforms import ToTensor "
   ]
  },
  {
   "attachments": {},
   "cell_type": "markdown",
   "metadata": {},
   "source": [
    "Download MNIST Data"
   ]
  },
  {
   "cell_type": "code",
   "execution_count": 2,
   "metadata": {},
   "outputs": [
    {
     "name": "stdout",
     "output_type": "stream",
     "text": [
      "<class 'torchvision.datasets.mnist.MNIST'>\n"
     ]
    }
   ],
   "source": [
    "train = datasets.MNIST(root=\"Data\", download=True, train=True, transform=ToTensor())\n",
    "print(type(train))\n",
    "dataset = DataLoader(train, batch_size=32)"
   ]
  },
  {
   "attachments": {},
   "cell_type": "markdown",
   "metadata": {},
   "source": [
    "Create the Class for the model"
   ]
  },
  {
   "cell_type": "code",
   "execution_count": 3,
   "metadata": {},
   "outputs": [],
   "source": [
    "class ImageClassifier(nn.Module):\n",
    "    # Initialize the model\n",
    "    def __init__(self):\n",
    "        super().__init__() \n",
    "\n",
    "        self.model = nn.Sequential(\n",
    "            nn.Conv2d(1, 32, (3, 3)),\n",
    "            nn.ReLU(),\n",
    "\n",
    "            nn.Conv2d(32, 64, (3, 3)),\n",
    "            nn.ReLU(),\n",
    "\n",
    "            nn.Conv2d(64, 64, (3, 3)),\n",
    "            nn.ReLU(),\n",
    "\n",
    "            nn.Flatten(),\n",
    "            nn.Linear(64 * (28-6) * (28-6), 10)\n",
    "        )\n",
    "    \n",
    "    # Forward pass\n",
    "    def forward(self, x):\n",
    "        return self.model(x)"
   ]
  },
  {
   "attachments": {},
   "cell_type": "markdown",
   "metadata": {},
   "source": [
    "Create a model"
   ]
  },
  {
   "cell_type": "code",
   "execution_count": 4,
   "metadata": {},
   "outputs": [
    {
     "name": "stdout",
     "output_type": "stream",
     "text": [
      "Epoch: 0, Loss: 0.022236613556742668\n",
      "Epoch: 1, Loss: 0.0037643457762897015\n",
      "Epoch: 2, Loss: 0.0018432220676913857\n",
      "Epoch: 3, Loss: 9.976848377846181e-05\n",
      "Epoch: 4, Loss: 0.00019332062220200896\n",
      "Epoch: 5, Loss: 7.401911716442555e-06\n",
      "Epoch: 6, Loss: 6.373724772856804e-06\n",
      "Epoch: 7, Loss: 6.146453870314872e-06\n",
      "Epoch: 8, Loss: 3.2185419058805564e-06\n",
      "Epoch: 9, Loss: 2.506354940123856e-05\n"
     ]
    }
   ],
   "source": [
    "classifier = ImageClassifier().to(\"cuda\")\n",
    "optimizer = Adam(classifier.parameters(), lr=1e-3)\n",
    "lossFn = nn.CrossEntropyLoss()\n",
    "\n",
    "if __name__ == \"__main__\":\n",
    "    for epoch in range(10):\n",
    "        for batch in dataset:\n",
    "            X, y = batch\n",
    "            X, y = X.to(\"cuda\"), y.to(\"cuda\")\n",
    "\n",
    "            y_pred = classifier(X)\n",
    "            loss = lossFn(y_pred, y)\n",
    "\n",
    "            # Backpropagation\n",
    "            optimizer.zero_grad()\n",
    "            loss.backward()\n",
    "            optimizer.step()\n",
    "\n",
    "        print(f\"Epoch: {epoch}, Loss: {loss.item()}\")\n",
    "    \n",
    "    with open(\"model_state.pt\", \"wb\") as file:\n",
    "        save(classifier.state_dict(), file)"
   ]
  }
 ],
 "metadata": {
  "kernelspec": {
   "display_name": "Python 3",
   "language": "python",
   "name": "python3"
  },
  "language_info": {
   "codemirror_mode": {
    "name": "ipython",
    "version": 3
   },
   "file_extension": ".py",
   "mimetype": "text/x-python",
   "name": "python",
   "nbconvert_exporter": "python",
   "pygments_lexer": "ipython3",
   "version": "3.11.4"
  },
  "orig_nbformat": 4
 },
 "nbformat": 4,
 "nbformat_minor": 2
}
